{
 "cells": [
  {
   "cell_type": "markdown",
   "metadata": {},
   "source": [
    "# Fake News Detection - Jupyter Notebook"
   ]
  },
  {
   "cell_type": "code",
   "metadata": {},
   "source": [
    "import pandas as pd\n",
    "import numpy as np\n",
    "from sklearn.model_selection import train_test_split\n",
    "from sklearn.feature_extraction.text import TfidfVectorizer\n",
    "from sklearn.linear_model import LogisticRegression\n",
    "from sklearn.metrics import accuracy_score\n",
    "import joblib"
   ]
  },
  {
   "cell_type": "code",
   "metadata": {},
   "source": [
    "fake = pd.read_csv('../dataset/fake.csv')\n",
    "real = pd.read_csv('../dataset/real.csv')\n",
    "fake['label'] = 0\n",
    "real['label'] = 1\n",
    "data = pd.concat([fake, real]).sample(frac=1).reset_index(drop=True)"
   ]
  },
  {
   "cell_type": "code",
   "metadata": {},
   "source": [
    "x_train, x_test, y_train, y_test = train_test_split(data['text'], data['label'], test_size=0.2, random_state=42)\n",
    "vectorizer = TfidfVectorizer(stop_words='english', max_df=0.7)\n",
    "x_train_vec = vectorizer.fit_transform(x_train)\n",
    "x_test_vec = vectorizer.transform(x_test)\n",
    "model = LogisticRegression()\n",
    "model.fit(x_train_vec, y_train)\n",
    "y_pred = model.predict(x_test_vec)\n",
    "print(f'Model Accuracy: {accuracy_score(y_test, y_pred)*100:.2f}%')"
   ]
  },
  {
   "cell_type": "code",
   "metadata": {},
   "source": [
    "joblib.dump(model, '../app/model.pkl')\n",
    "joblib.dump(vectorizer, '../app/vectorizer.pkl')"
   ]
  }
 ],
 "metadata": {},
 "nbformat": 4,
 "nbformat_minor": 2
}